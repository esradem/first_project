{
 "cells": [
  {
   "cell_type": "code",
   "execution_count": null,
   "id": "f292607e-6eca-45c0-8d49-8a045f4af12b",
   "metadata": {},
   "outputs": [],
   "source": [
    "#clean column name-1 change to lower letter and replace white space with _\n",
    "df.columns = df.columns.str.lower().str.replace(' ', '_')\n"
   ]
  },
  {
   "cell_type": "code",
   "execution_count": null,
   "id": "7b845a69-728c-4c2c-b822-5d6585ed8ff1",
   "metadata": {},
   "outputs": [],
   "source": [
    "#rename columns\n",
    "df.rename(columns={'A old column': 'B new columns'}, inplace=True)\n"
   ]
  }
 ],
 "metadata": {
  "kernelspec": {
   "display_name": "venv",
   "language": "python",
   "name": "venv"
  },
  "language_info": {
   "codemirror_mode": {
    "name": "ipython",
    "version": 3
   },
   "file_extension": ".py",
   "mimetype": "text/x-python",
   "name": "python",
   "nbconvert_exporter": "python",
   "pygments_lexer": "ipython3",
   "version": "3.12.7"
  }
 },
 "nbformat": 4,
 "nbformat_minor": 5
}
