{
 "cells": [
  {
   "cell_type": "code",
   "execution_count": null,
   "id": "17963993-a2d2-4927-8ce8-7ad43a9b15ff",
   "metadata": {},
   "outputs": [],
   "source": [
    "import pandas as pd"
   ]
  },
  {
   "cell_type": "markdown",
   "id": "6fe3b8ba-7b18-4c4c-97b9-1eb022a241c5",
   "metadata": {},
   "source": [
    "## Clean column name by lower and replace white space"
   ]
  },
  {
   "cell_type": "code",
   "execution_count": null,
   "id": "f292607e-6eca-45c0-8d49-8a045f4af12b",
   "metadata": {},
   "outputs": [],
   "source": [
    "#clean column name-1 change to lower letter and replace white space with _\n",
    "df.columns = df.columns.str.lower().str.replace(' ', '_')\n"
   ]
  },
  {
   "cell_type": "code",
   "execution_count": null,
   "id": "7b845a69-728c-4c2c-b822-5d6585ed8ff1",
   "metadata": {},
   "outputs": [],
   "source": [
    "#rename columns\n",
    "df.rename(columns={'A old column': 'B new columns'}, inplace=True)\n"
   ]
  },
  {
   "cell_type": "markdown",
   "id": "5d254839-b6a6-484e-9b72-de647f3d5f82",
   "metadata": {},
   "source": [
    "## Cleaning invalid Values/row"
   ]
  },
  {
   "cell_type": "code",
   "execution_count": null,
   "id": "4d7ce0d6-2793-4bee-b403-7ff829104dcf",
   "metadata": {},
   "outputs": [],
   "source": [
    "# cleaning"
   ]
  },
  {
   "cell_type": "markdown",
   "id": "fb8addeb-85bb-455d-b409-53ee7601dbc9",
   "metadata": {},
   "source": [
    "## Formatting data types\n",
    "Dealing with Null values\n",
    "Identify any columns with null or missing values. Identify how many null values each column has. You can use the isnull() function in pandas to find columns with null values.\n",
    "\n",
    "Decide on a strategy for handling the null values. There are several options, including:\n",
    "\n",
    "Drop the rows or columns with null values\n",
    "Fill the null values with a specific value (such as the column mean or median for numerical variables, and mode for categorical variables)\n",
    "Fill the null values with the previous or next value in the column\n",
    "\n",
    "-- Implement your chosen strategy to handle the null values. You can use the fillna() function in pandas to fill null values or dropna() function to drop null values.\n",
    "\n",
    "Verify that your strategy has successfully handled the null values. You can use the isnull() function again to check if there are still null values in the dataset.\n",
    "\n",
    "Remember to document your process and explain your reasoning for choosing a particular strategy for handling null values.\n",
    "\n",
    "After formatting data types, as a last step, convert all the numeric variables to integers."
   ]
  },
  {
   "cell_type": "code",
   "execution_count": null,
   "id": "303383a2-6c93-465d-b7f3-5b4d4351e2ba",
   "metadata": {},
   "outputs": [],
   "source": [
    "#yourcodeherehehe"
   ]
  },
  {
   "cell_type": "markdown",
   "id": "7050f0ab-c128-4be9-801a-4acb7667d1fc",
   "metadata": {},
   "source": [
    " ## Dealing with duplicates\n",
    "Use the .duplicated() method to identify any duplicate rows in the dataframe.\n",
    "\n",
    "Decide on a strategy for handling the duplicates. Options include:\n",
    "\n",
    "Dropping all duplicate rows\n",
    "Keeping only the first occurrence of each duplicated row\n",
    "Keeping only the last occurrence of each duplicated row\n",
    "Dropping duplicates based on a subset of columns\n",
    "Dropping duplicates based on a specific column\n",
    "Implement your chosen strategy using the drop_duplicates() function.\n",
    "\n",
    "Verify that your strategy has successfully handled the duplicates by checking for duplicates again using .duplicated().\n",
    "\n",
    "Remember to document your process and explain your reasoning for choosing a particular strategy for handling duplicates.\n",
    "\n",
    "Save the cleaned dataset to a new CSV file.\n",
    "\n",
    "Hint: after dropping duplicates, reset the index to ensure consistency."
   ]
  },
  {
   "cell_type": "markdown",
   "id": "8eea7cdb-3b57-4c55-bb03-00e19674d839",
   "metadata": {},
   "source": [
    "## Creating functions on a separate py file\n",
    "Put all the data cleaning and formatting steps into functions, and create a main function that performs all the cleaning and formatting.\n",
    "\n",
    "Write these functions in separate .py file(s). By putting these steps into functions, we can make the code more modular and easier to maintain.\n",
    "\n",
    "Hint: autoreload module is a utility module in Python that allows you to automatically reload modules in the current session when changes are made to the source code. This can be useful in situations where you are actively developing code and want to see the effects of changes you make without having to constantly restart the Python interpreter or Jupyter Notebook kernel."
   ]
  },
  {
   "cell_type": "markdown",
   "id": "43968208-c1ae-41bc-bb73-6e18d589bf42",
   "metadata": {},
   "source": [
    "## Analyzing Clean and Formated Data"
   ]
  },
  {
   "cell_type": "code",
   "execution_count": null,
   "id": "853fec34-1961-4d49-8643-cb766af2db64",
   "metadata": {},
   "outputs": [],
   "source": []
  }
 ],
 "metadata": {
  "kernelspec": {
   "display_name": "venv",
   "language": "python",
   "name": "venv"
  },
  "language_info": {
   "codemirror_mode": {
    "name": "ipython",
    "version": 3
   },
   "file_extension": ".py",
   "mimetype": "text/x-python",
   "name": "python",
   "nbconvert_exporter": "python",
   "pygments_lexer": "ipython3",
   "version": "3.12.7"
  }
 },
 "nbformat": 4,
 "nbformat_minor": 5
}
