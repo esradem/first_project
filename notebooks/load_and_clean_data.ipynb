{
 "cells": [
  {
   "cell_type": "code",
   "execution_count": null,
   "id": "79746aa9-25d3-418b-a2e9-9e3b91fe98ac",
   "metadata": {},
   "outputs": [],
   "source": [
    "import os"
   ]
  },
  {
   "cell_type": "code",
   "execution_count": null,
   "id": "f118388f-602e-48f1-89bd-cff435888c2f",
   "metadata": {},
   "outputs": [],
   "source": [
    "folder_path = r'C:\\Users\\ewaki\\Documents\\first_project\\data\\raw'"
   ]
  },
  {
   "cell_type": "code",
   "execution_count": null,
   "id": "79d266a8-9574-496a-864a-e5cccdf83c48",
   "metadata": {},
   "outputs": [],
   "source": [
    "print(\"Files in folder:\", os.listdir(folder_path))"
   ]
  },
  {
   "cell_type": "code",
   "execution_count": null,
   "id": "76fcfde7-4854-4a95-9de5-7578d2f48edd",
   "metadata": {},
   "outputs": [],
   "source": [
    "csv_files = [f for f in os.listdir(folder_path) if f.lower().endswith('.csv')]\n",
    "\n",
    "print(\"CSV files found:\")\n",
    "for f in csv_files:\n",
    "    print(f)\n"
   ]
  },
  {
   "cell_type": "code",
   "execution_count": null,
   "id": "02eb3fd1-9100-45a3-a2f5-5e9a50b018fd",
   "metadata": {},
   "outputs": [],
   "source": [
    "import pandas as pd\n",
    " "
   ]
  },
  {
   "cell_type": "code",
   "execution_count": null,
   "id": "b45353a9-1e59-4432-b0ec-7ce152dfe1ad",
   "metadata": {},
   "outputs": [],
   "source": [
    "folder_path = r'C:\\Users\\ewaki\\Documents\\first_project\\data\\raw'\n",
    "matrix_files = [\n",
    "    \"National Employment Matrix_IND_31-330.csv\",\n",
    "    \"National Employment Matrix_IND_230000.csv\",\n",
    "    \"National Employment Matrix_IND_541200.csv\",\n",
    "    \"National Employment Matrix_IND_541300.csv\",\n",
    "    \"National Employment Matrix_IND_610000.csv\",\n",
    "    \"National Employment Matrix_IND_710000.csv\",\n",
    "    \"National Employment Matrix_IND_721000.csv\",\n",
    "    \"National Employment Matrix_OCC_39-3011.csv\"\n",
    "]\n",
    "\n",
    "# Load and combine all matrix datasets\n",
    "matrix_dfs = []\n",
    "for file in matrix_files:\n",
    "    path = os.path.join(folder_path, file)\n",
    "    df = pd.read_csv(path, on_bad_lines='skip')  # Skip broken lines\n",
    "    df['source_file'] = file  # Track origin\n",
    "    matrix_dfs.append(df)\n",
    "\n",
    "# Merge into one dataframe\n",
    "employment_matrix = pd.concat(matrix_dfs, ignore_index=True)\n",
    "print(\"✅ Employment matrix shape:\", employment_matrix.shape)\n",
    "employment_matrix.head()\n"
   ]
  },
  {
   "cell_type": "code",
   "execution_count": null,
   "id": "a457ce06-2307-4d44-adef-f08bd212e535",
   "metadata": {},
   "outputs": [],
   "source": [
    "import pandas as pd\n",
    "import os\n",
    "\n",
    "# Set folder and file\n",
    "folder_path = r'C:\\Users\\ewaki\\Documents\\first_project\\data\\raw'\n",
    "projection_file = \"Employment_Projections.csv\"\n",
    "\n",
    "# Load the file\n",
    "employment_proj = pd.read_csv(os.path.join(folder_path, projection_file), on_bad_lines='skip')\n",
    "\n",
    "print(f\"✅ Employment Projections loaded. Shape: {employment_proj.shape}\")\n",
    "employment_proj.head()\n"
   ]
  },
  {
   "cell_type": "code",
   "execution_count": null,
   "id": "d11bcb12-d0f4-497d-8d5d-938066dec591",
   "metadata": {},
   "outputs": [],
   "source": [
    "display(employment_proj.info())\n",
    "display(employment_matrix.info())\n",
    "display(reddit_comments.info())\n",
    "\n"
   ]
  },
  {
   "cell_type": "code",
   "execution_count": null,
   "id": "f1e1b138-f752-421a-a336-331399cecdd2",
   "metadata": {},
   "outputs": [],
   "source": [
    "\n",
    "print(df.isnull().sum())"
   ]
  },
  {
   "cell_type": "code",
   "execution_count": null,
   "id": "3713badd-4f18-46df-a04f-e080e6dd2789",
   "metadata": {},
   "outputs": [],
   "source": [
    "print(f\"Columns: {list(df.columns)}\\n\")\n",
    "    "
   ]
  },
  {
   "cell_type": "code",
   "execution_count": null,
   "id": "a33c13d8-be81-4441-bcce-4f42bad819a8",
   "metadata": {},
   "outputs": [],
   "source": [
    "import pandas as pd\n",
    "\n",
    "reddit_comments = pd.read_csv(r'C:\\Users\\ewaki\\Documents\\first_project\\data\\raw\\reddit_comments_combined.csv')\n",
    "reddit_comments.head()\n",
    "\n"
   ]
  },
  {
   "cell_type": "code",
   "execution_count": null,
   "id": "3f97438f-e017-4347-9b99-1803a2b59b63",
   "metadata": {},
   "outputs": [],
   "source": []
  },
  {
   "cell_type": "code",
   "execution_count": null,
   "id": "40d7d99e-e576-4a5c-8b32-0408bb85754b",
   "metadata": {},
   "outputs": [],
   "source": []
  }
 ],
 "metadata": {
  "kernelspec": {
   "display_name": "venv",
   "language": "python",
   "name": "venv"
  },
  "language_info": {
   "codemirror_mode": {
    "name": "ipython",
    "version": 3
   },
   "file_extension": ".py",
   "mimetype": "text/x-python",
   "name": "python",
   "nbconvert_exporter": "python",
   "pygments_lexer": "ipython3",
   "version": "3.12.7"
  }
 },
 "nbformat": 4,
 "nbformat_minor": 5
}
